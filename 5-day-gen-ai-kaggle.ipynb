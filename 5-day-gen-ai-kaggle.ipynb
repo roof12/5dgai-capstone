{
 "cells": [
  {
   "cell_type": "code",
   "execution_count": null,
   "metadata": {
    "_cell_guid": "b1076dfc-b9ad-4769-8c92-a6c4dae69d19",
    "_uuid": "8f2839f25d086af736a60e9eeb907d3b93b6e0e5"
   },
   "outputs": [],
   "source": [
    "import os\n",
    "\n",
    "repo_url = \"https://github.com/roof12/5dgai-capstone.git\"  # Replace with your repo URL\n",
    "repo_name = repo_url.split('/')[-1].replace('.git', '')  # Extract repo name\n",
    "\n",
    "os.chdir(\"/kaggle/working\")\n",
    "\n",
    "if not os.path.isdir(repo_name):\n",
    "    # clone repo and install dependencies\n",
    "    !git clone $repo_url\n",
    "    print(f\"Repository '{repo_name}' cloned successfully.\")\n",
    "    !pip install -r 5dgai-capstone/requirements.txt\n",
    "else:\n",
    "    # pull repo\n",
    "    print(f\"Repository '{repo_name}' already exists, pulling.\")\n",
    "    os.chdir(repo_name)\n",
    "    !git pull\n",
    "\n",
    "os.chdir(\"/kaggle/working/\" + repo_name + \"/encoder\")\n",
    "print(f\"Current working directory: {os.getcwd()}\")"
   ]
  },
  {
   "cell_type": "code",
   "execution_count": null,
   "metadata": {},
   "outputs": [],
   "source": [
    "# If necessary, uncomment and execute to install requirements\n",
    "# !pip install -r ../requirements.txt"
   ]
  },
  {
   "cell_type": "code",
   "execution_count": null,
   "metadata": {},
   "outputs": [],
   "source": [
    "%%time\n",
    "\n",
    "from train_cnn import train\n",
    "\n",
    "# train(\"../data/current/train-5k.csv\", epochs=50)\n",
    "train(\"../data/current/train-first-200k-from-1-mil.csv\", epochs=50)"
   ]
  },
  {
   "cell_type": "code",
   "execution_count": null,
   "metadata": {},
   "outputs": [],
   "source": [
    "%%time\n",
    "\n",
    "from test_cnn import test\n",
    "\n",
    "test(\"../data/current/test-200k.csv\")"
   ]
  },
  {
   "cell_type": "code",
   "execution_count": null,
   "metadata": {},
   "outputs": [],
   "source": [
    "print(\"OK\")"
   ]
  }
 ],
 "metadata": {
  "kaggle": {
   "accelerator": "none",
   "dataSources": [],
   "dockerImageVersionId": 30918,
   "isGpuEnabled": false,
   "isInternetEnabled": true,
   "language": "python",
   "sourceType": "notebook"
  },
  "kernelspec": {
   "display_name": "Python 3",
   "language": "python",
   "name": "python3"
  },
  "language_info": {
   "codemirror_mode": {
    "name": "ipython",
    "version": 3
   },
   "file_extension": ".py",
   "mimetype": "text/x-python",
   "name": "python",
   "nbconvert_exporter": "python",
   "pygments_lexer": "ipython3",
   "version": "3.10.12"
  }
 },
 "nbformat": 4,
 "nbformat_minor": 4
}
