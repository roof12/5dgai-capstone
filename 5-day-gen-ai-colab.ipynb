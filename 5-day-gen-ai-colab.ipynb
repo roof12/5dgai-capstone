{
 "cells": [
  {
   "cell_type": "code",
   "execution_count": null,
   "metadata": {
    "id": "FWm6JdUmp5mj"
   },
   "outputs": [],
   "source": [
    "# import os\n",
    "# os.chdir(\"/content/5dgai-capstone/encoder\")\n",
    "# !ls ../data/current\n",
    "#!git pull"
   ]
  },
  {
   "cell_type": "code",
   "execution_count": null,
   "metadata": {
    "_cell_guid": "b1076dfc-b9ad-4769-8c92-a6c4dae69d19",
    "_uuid": "8f2839f25d086af736a60e9eeb907d3b93b6e0e5",
    "colab": {
     "base_uri": "https://localhost:8080/"
    },
    "id": "MpWpmx29pO7z",
    "outputId": "09d4fb22-4639-4b3d-a6af-c3ef6534b5ab"
   },
   "outputs": [],
   "source": [
    "import os\n",
    "\n",
    "repo_url = \"https://github.com/roof12/5dgai-capstone.git\"  # Replace with your repo URL\n",
    "repo_name = repo_url.split('/')[-1].replace('.git', '')  # Extract repo name\n",
    "\n",
    "os.chdir(\"/content\")\n",
    "\n",
    "if not os.path.isdir(repo_name):\n",
    "    # clone repo and install dependencies\n",
    "    !git clone $repo_url\n",
    "    print(f\"Repository '{repo_name}' cloned successfully.\")\n",
    "    !pip install -r 5dgai-capstone/requirements.txt\n",
    "else:\n",
    "    # pull repo\n",
    "    print(f\"Repository '{repo_name}' already exists, pulling.\")\n",
    "    os.chdir(repo_name)\n",
    "    !git pull\n",
    "\n",
    "os.chdir(\"/content/\" + repo_name + \"/encoder\")\n",
    "print(f\"Current working directory: {os.getcwd()}\")"
   ]
  },
  {
   "cell_type": "code",
   "execution_count": null,
   "metadata": {
    "id": "ozqnQ291yHR0"
   },
   "outputs": [],
   "source": [
    "# If necessary, uncomment and execute to install requirements\n",
    "# !pip install -r ../requirements.txt"
   ]
  },
  {
   "cell_type": "code",
   "execution_count": null,
   "metadata": {
    "colab": {
     "base_uri": "https://localhost:8080/"
    },
    "id": "FmpvS0pOxw6u",
    "outputId": "553f006e-d5e9-4091-ef4b-a682947fa04d"
   },
   "outputs": [],
   "source": [
    "from train_cnn import train\n",
    "\n",
    "train(\"../data/current/train-5k.csv\", epochs=5)"
   ]
  },
  {
   "cell_type": "code",
   "execution_count": null,
   "metadata": {
    "colab": {
     "base_uri": "https://localhost:8080/"
    },
    "id": "knG0ZQCNEfka",
    "outputId": "35711c21-2b98-4361-de20-26c34140a463"
   },
   "outputs": [],
   "source": [
    "from test_cnn import test\n",
    "\n",
    "test(\"../data/current/test-200k.csv\")"
   ]
  },
  {
   "cell_type": "code",
   "execution_count": null,
   "metadata": {
    "colab": {
     "base_uri": "https://localhost:8080/"
    },
    "id": "195ygoWtpO73",
    "outputId": "71bc2cd3-ae0f-475d-a85b-5949187453b3"
   },
   "outputs": [],
   "source": [
    "print(\"OK\")"
   ]
  }
 ],
 "metadata": {
  "colab": {
   "provenance": []
  },
  "kaggle": {
   "accelerator": "none",
   "dataSources": [],
   "dockerImageVersionId": 30918,
   "isGpuEnabled": false,
   "isInternetEnabled": true,
   "language": "python",
   "sourceType": "notebook"
  },
  "kernelspec": {
   "display_name": "Python 3 (ipykernel)",
   "language": "python",
   "name": "python3"
  },
  "language_info": {
   "codemirror_mode": {
    "name": "ipython",
    "version": 3
   },
   "file_extension": ".py",
   "mimetype": "text/x-python",
   "name": "python",
   "nbconvert_exporter": "python",
   "pygments_lexer": "ipython3",
   "version": "3.10.12"
  }
 },
 "nbformat": 4,
 "nbformat_minor": 0
}
